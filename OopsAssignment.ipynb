{
  "nbformat": 4,
  "nbformat_minor": 0,
  "metadata": {
    "colab": {
      "provenance": []
    },
    "kernelspec": {
      "name": "python3",
      "display_name": "Python 3"
    },
    "language_info": {
      "name": "python"
    }
  },
  "cells": [
    {
      "cell_type": "markdown",
      "source": [
        "\n",
        "Q1. What are the five key concepts of Object-Oriented Programming (OOP)?\n",
        "\n",
        "A1. Encapsulation :- It is the process of wrapping up variables and methods into a single entity.\n",
        "\n",
        "   Abstraction:- It is the process of hiding the implementation details and showing only the functionality to the user.\n",
        "\n",
        "   Inheritance:- It is the process of creating a new class from an existing class.\n",
        "\n",
        "   Polymorphism:- It is the process of creating a single interface for multiple classes.\n",
        "\n",
        "   Data Abstraction:- It is the process of hiding the implementation details and showing only the functionality to the user.\n"
      ],
      "metadata": {
        "id": "87dA9Qyiuz-F"
      }
    },
    {
      "cell_type": "code",
      "source": [
        "#Q2. Write a Python class for a `Car` with attributes for `make`, `model`, and `year`. Include a method to display the car's information.\n",
        "\n",
        "class Car:\n",
        "    def __init__(self, make, model, year):\n",
        "        self.make = make\n",
        "        self.model = model\n",
        "        self.year = year\n",
        "\n",
        "    def display_info(self):\n",
        "        print(\"Make :\", self.make)\n",
        "        print(\"Model :\", self.model)\n",
        "        print(\"Year: \", self.year)\n",
        "\n",
        "car = Car(\"Punch\", \"Tata\", 2024)\n",
        "car.display_info()"
      ],
      "metadata": {
        "colab": {
          "base_uri": "https://localhost:8080/"
        },
        "id": "zFPBBH7QuxOt",
        "outputId": "41ce2429-4d0a-4445-b375-974fa21ab385"
      },
      "execution_count": 2,
      "outputs": [
        {
          "output_type": "stream",
          "name": "stdout",
          "text": [
            "Make : Punch\n",
            "Model : Tata\n",
            "Year:  2024\n"
          ]
        }
      ]
    },
    {
      "cell_type": "code",
      "source": [
        "'''\n",
        "Q3. Explain the difference between instance methods and class methods. Provide an example of each.\n",
        "\n",
        "A3. Instance methods are the methods that are called on an object.\n",
        "    They are used to access the data of the object.\n",
        "\n",
        "    Class methods are the methods that are called on the class.\n",
        "    They are used to access the data of the class.\n",
        "\n",
        "    Here's an example of each:-\n",
        "'''\n",
        "\n",
        "class Student:\n",
        "  def __init__(self, name, age):\n",
        "    self.name = name\n",
        "    self.age = age\n",
        "\n",
        "  def display_info(self):\n",
        "    print(\"Name :\", self.name)\n",
        "    print(\"Age: \", self.age)\n",
        "\n",
        "s1 = Student(\"Prakrati\", 21)\n",
        "s1.display_info()\n",
        "\n",
        "#Class methods:-\n",
        "\n",
        "class Student:\n",
        "  school = \"XYZ School\"\n",
        "\n",
        "  @classmethod\n",
        "  def display_info(cls):\n",
        "    print(\"School :\", cls.school)\n",
        "\n",
        "Student.display_info()"
      ],
      "metadata": {
        "colab": {
          "base_uri": "https://localhost:8080/"
        },
        "id": "oi-uuZhnuxLE",
        "outputId": "65b7f88c-95f0-4ff1-b7f4-20a1c6f9ba49"
      },
      "execution_count": 4,
      "outputs": [
        {
          "output_type": "stream",
          "name": "stdout",
          "text": [
            "Name : Prakrati\n",
            "Age:  21\n",
            "School : XYZ School\n"
          ]
        }
      ]
    },
    {
      "cell_type": "code",
      "source": [
        "'''\n",
        "Q4. How does Python implement method overloading? Give an example.\n",
        "\n",
        "A4. Python does not support method overloading.\n",
        "    But we can achieve method overloading by using default arguments.\n",
        "\n",
        "    Here's an example:-\n",
        "\n",
        "'''\n",
        "\n",
        "class Calculator:\n",
        "    def add(self, a, b=0, c=0):\n",
        "        return a + b + c\n",
        "\n",
        "calc = Calculator()\n",
        "print(calc.add(7))\n",
        "print(calc.add(7, 17))\n",
        "print(calc.add(7, 17, 24))"
      ],
      "metadata": {
        "colab": {
          "base_uri": "https://localhost:8080/"
        },
        "id": "zuDBBRRMuxFR",
        "outputId": "a2fe7f32-70b3-4f53-b2fe-6cb5da77ece3"
      },
      "execution_count": 5,
      "outputs": [
        {
          "output_type": "stream",
          "name": "stdout",
          "text": [
            "7\n",
            "24\n",
            "48\n"
          ]
        }
      ]
    },
    {
      "cell_type": "markdown",
      "source": [
        "Q5. What are the three types of access modifiers in Python? How are they denoted?\n",
        "\n",
        "A5. The three types of access modifiers in Python are:-\n",
        "\n",
        "  Public:- Public members are accessible from anywhere\n",
        "\n",
        "  Private:- Private members are accessible only within the class.\n",
        "  \n",
        "  Protected:- Protected members are accessible within the class and its subclasses.\n",
        "\n",
        "  They are denoted by the single underscore and double underscore respectively\n",
        "\n",
        "\n",
        "\n"
      ],
      "metadata": {
        "id": "M-T6It0Dvr2K"
      }
    },
    {
      "cell_type": "code",
      "source": [
        "'''\n",
        "Q6. Describe the five types of inheritance in Python. Provide a simple example of multiple inheritance.\n",
        "\n",
        "A6. The five types of inheritance in Python are:-\n",
        "\n",
        "    1. Single Inheritance:- Single inheritance is when a class inherits from a single parent class.\n",
        "\n",
        "    2. Multiple Inheritance:- Multiple inheritance is when a class inherits from multiple parent classes.\n",
        "\n",
        "    3. Multilevel Inheritance:- Multilevel inheritance is when a class inherits from a class that inherits from another class.\n",
        "\n",
        "    4. Hierarchical Inheritance:- Hierarchical inheritance is when multiple classes inherit from a single parent class.\n",
        "\n",
        "    5. Hybrid Inheritance:- Hybrid inheritance is a combination of two or more types of inheritance.\n",
        "\n",
        " '''\n",
        "class Parent1:\n",
        "    def method1(self):\n",
        "        print(\"Parent1 method1\")\n",
        "\n",
        "class Parent2:\n",
        "    def method2(self):\n",
        "        print(\"Parent2 method2\")\n",
        "\n",
        "class Child(Parent1, Parent2):\n",
        "    pass\n",
        "\n",
        "child = Child()\n",
        "child.method1()\n",
        "child.method2()\n"
      ],
      "metadata": {
        "colab": {
          "base_uri": "https://localhost:8080/"
        },
        "id": "-REkUB89uw9D",
        "outputId": "a3bef7c9-0cd9-4d1b-a0cf-65d0e29cd1e9"
      },
      "execution_count": 6,
      "outputs": [
        {
          "output_type": "stream",
          "name": "stdout",
          "text": [
            "Parent1 method1\n",
            "Parent2 method2\n"
          ]
        }
      ]
    },
    {
      "cell_type": "code",
      "source": [
        "'''\n",
        "Q7. What is the Method Resolution Order (MRO) in Python? How can you retrieve it programmatically?\n",
        "\n",
        "A7. The Method Resolution Order (MRO) in Python is the order in which Python looks for a method in a class hierarchy.\n",
        "\n",
        "    We can retrieve it programmatically by using the mro() method.\n",
        "'''\n",
        "class A:\n",
        "    pass\n",
        "\n",
        "class B(A):\n",
        "    pass\n",
        "\n",
        "class C(A):\n",
        "    pass\n",
        "\n",
        "class D(B, C):\n",
        "    pass\n",
        "\n",
        "print(D.mro())"
      ],
      "metadata": {
        "colab": {
          "base_uri": "https://localhost:8080/"
        },
        "id": "5OwigJAwuwnn",
        "outputId": "760f2016-c562-49b9-a56e-d464775892ba"
      },
      "execution_count": 8,
      "outputs": [
        {
          "output_type": "stream",
          "name": "stdout",
          "text": [
            "[<class '__main__.D'>, <class '__main__.B'>, <class '__main__.C'>, <class '__main__.A'>, <class 'object'>]\n"
          ]
        }
      ]
    },
    {
      "cell_type": "code",
      "source": [
        "'''\n",
        "Q8. Create an abstract base class `Shape` with an abstract method `area()`. Then create two subclasses `Circle` and `Rectangle` that implement the `area()` method.\n",
        "\n",
        "A8. Here's an example of an abstract base class `Shape` with an abstract method `area()`, and two subclasses `Circle` and `Rectangle` that implement the `area()` method:\n",
        "'''\n",
        "\n",
        "class Shape:\n",
        "    def area(self):\n",
        "        pass\n",
        "\n",
        "class Circle(Shape):\n",
        "    def area(self, radius):\n",
        "        return 3.14 * radius * radius\n",
        "\n",
        "class Rectangle(Shape):\n",
        "    def area(self, length, width):\n",
        "        return length * width\n",
        "\n",
        "circle = Circle()\n",
        "print(circle.area(5))\n",
        "\n",
        "rectangle = Rectangle()\n",
        "print(rectangle.area(10, 20))"
      ],
      "metadata": {
        "colab": {
          "base_uri": "https://localhost:8080/"
        },
        "id": "J0dGaEUBuwlG",
        "outputId": "d68f0825-b593-4589-a009-b8b80f31838e"
      },
      "execution_count": 9,
      "outputs": [
        {
          "output_type": "stream",
          "name": "stdout",
          "text": [
            "78.5\n",
            "200\n"
          ]
        }
      ]
    },
    {
      "cell_type": "code",
      "execution_count": null,
      "metadata": {
        "colab": {
          "base_uri": "https://localhost:8080/"
        },
        "id": "NdvFi5aO3pOu",
        "outputId": "5e39363c-f843-4fc3-8037-e8f0c3c6dc71"
      },
      "outputs": [
        {
          "output_type": "stream",
          "name": "stdout",
          "text": [
            "50\n",
            "153.86\n",
            "48.0\n"
          ]
        }
      ],
      "source": [
        "#9.Demonstrate polymorphism by creating a function that can work with different shape objects to calculate and print their areas.\n",
        "class Shape:\n",
        "  def area(self):\n",
        "    pass\n",
        "class Rectangle(Shape):\n",
        "  def __init__(self, length, width):\n",
        "    self.length = length\n",
        "    self.width = width\n",
        "  def area(self):\n",
        "    return self.length * self.width\n",
        "class Circle(Shape):\n",
        "  def __init__(self, radius):\n",
        "    self.radius = radius\n",
        "  def area(self):\n",
        "    return 3.14 * self.radius * self.radius\n",
        "class Triangle(Shape):\n",
        "  def __init__(self, base, height):\n",
        "    self.base = base\n",
        "    self.height = height\n",
        "  def area(self):\n",
        "    return 0.5 * self.base * self.height\n",
        "def print_area(shape):\n",
        "  print(shape.area())\n",
        "rectangle = Rectangle(5, 10)\n",
        "circle = Circle(7)\n",
        "triangle = Triangle(8, 12)\n",
        "print_area(rectangle)\n",
        "print_area(circle)\n",
        "print_area(triangle)"
      ]
    },
    {
      "cell_type": "code",
      "source": [
        "#10. Implement encapsulation in a `BankAccount` class with private attributes for `balance` and `account_number`. Include methods for deposit, withdrawal, and balance inquiry.\n",
        "class BankAccount:\n",
        "  def __init__(self, account_number, balance=0):\n",
        "    self.__account_number = account_number\n",
        "    self.__balance = balance\n",
        "  def deposit(self, amount):\n",
        "    self.__balance += amount\n",
        "  def withdraw(self, amount):\n",
        "    if amount <= self.__balance:\n",
        "      self.__balance -= amount\n",
        "    else:\n",
        "      print(\"Insufficient balance\")\n",
        "  def balance_inquiry(self):\n",
        "    return self.__balance\n",
        "account = BankAccount(\"123456789\")\n",
        "account.deposit(1000)\n",
        "account.withdraw(500)\n",
        "print(account.balance_inquiry())"
      ],
      "metadata": {
        "colab": {
          "base_uri": "https://localhost:8080/"
        },
        "id": "nJ_UAB4R-SIC",
        "outputId": "d6a95c7d-3a55-4c21-da98-99d3db33a385"
      },
      "execution_count": null,
      "outputs": [
        {
          "output_type": "stream",
          "name": "stdout",
          "text": [
            "500\n"
          ]
        }
      ]
    },
    {
      "cell_type": "code",
      "source": [
        "'''\n",
        "11. Write a class that overrides the `__str__` and `__add__` magic methods. What will these methods allow you to do?\n",
        "A.11 In Python, magic methods (also known as dunder methods because of the double underscores) allow you to define special behavior for certain operations. By overriding these methods, you can customize how objects of your class behave.\n",
        "\n",
        "__str__(self) is used to define the string representation of an object when it's passed to str() or print().\n",
        "__add__(self, other) is used to define the behavior of the + operator between two objects of your class.\n",
        "'''\n",
        "\n",
        "class MagicMethods:\n",
        "  def __init__(self, name):\n",
        "    self.name = name\n",
        "  def __str__(self):\n",
        "    return f\"This is {self.name}\"\n",
        "  def __add__(self, other):\n",
        "    return self.name + \" \" + other.name\n",
        "obj1 = MagicMethods(\"Prakrati\")\n",
        "obj2 = MagicMethods(\"Jain\")\n",
        "print(obj1)\n",
        "result = obj1 + obj2\n",
        "print(result)"
      ],
      "metadata": {
        "colab": {
          "base_uri": "https://localhost:8080/"
        },
        "id": "mwWNvlaL_F7g",
        "outputId": "6be3abf1-28e2-4682-8dbb-08d293e77cf6"
      },
      "execution_count": 10,
      "outputs": [
        {
          "output_type": "stream",
          "name": "stdout",
          "text": [
            "This is Prakrati\n",
            "Prakrati Jain\n"
          ]
        }
      ]
    },
    {
      "cell_type": "code",
      "source": [
        "#12.Create a decorator that measures and prints the execution time of a function.\n",
        "import time\n",
        "class Decorator:\n",
        "    @staticmethod\n",
        "    def measure_time(func):\n",
        "      def wrapper(*args):\n",
        "        start_time = time.time()\n",
        "        result = func(*args)\n",
        "        end_time = time.time()\n",
        "        execution_time = end_time - start_time\n",
        "        print(f\"Execution time of {func.__name__}: {execution_time:.6f} seconds\")\n",
        "        return result\n",
        "      return wrapper\n",
        "@Decorator.measure_time\n",
        "def my_function(n):\n",
        "    sum = 0\n",
        "    for i in range(n):\n",
        "        sum += i\n",
        "    return sum\n",
        "my_function(15)"
      ],
      "metadata": {
        "colab": {
          "base_uri": "https://localhost:8080/"
        },
        "id": "wG1vXbLxAwk_",
        "outputId": "35657d70-4190-42c5-b798-02c3b6f8c0e9"
      },
      "execution_count": null,
      "outputs": [
        {
          "output_type": "stream",
          "name": "stdout",
          "text": [
            "Execution time of my_function: 0.000003 seconds\n"
          ]
        },
        {
          "output_type": "execute_result",
          "data": {
            "text/plain": [
              "105"
            ]
          },
          "metadata": {},
          "execution_count": 6
        }
      ]
    },
    {
      "cell_type": "code",
      "source": [
        "'''\n",
        "13.Explain the concept of the Diamond Problem in multiple inheritance. How does Python resolve it?\n",
        "ANS:The Diamond Problem is a well-known issue in object-oriented programming that arises in the context of multiple inheritance.\n",
        "It occurs when a class inherits from two classes that both inherit from a common base class, creating a diamond-shaped inheritance structure.\n",
        "Python uses a method resolution order (MRO) algorithm to resolve the Diamond Problem. Python's MRO is based on the C3 linearization algorithm, which provides a consistent order for method resolution.\n",
        "This ensures that the class hierarchy is traversed in a predictable way when searching for methods or attributes.\n",
        "'''\n",
        "class A:\n",
        "    def __init__(self):\n",
        "        print(\"A's __init__\")\n",
        "\n",
        "    def method(self):\n",
        "        print(\"A's method\")\n",
        "class B(A):\n",
        "    def __init__(self):\n",
        "        super().__init__()\n",
        "        print(\"B's __init__\")\n",
        "\n",
        "    def method(self):\n",
        "        print(\"B's method\")\n",
        "class C(A):\n",
        "    def __init__(self):\n",
        "        super().__init__()\n",
        "        print(\"C's __init__\")\n",
        "\n",
        "    def method(self):\n",
        "        print(\"C's method\")\n",
        "class D(B, C):\n",
        "    def __init__(self):\n",
        "        super().__init__()\n",
        "        print(\"D's __init__\")\n",
        "\n",
        "d = D()\n",
        "d.method()\n",
        "print(D.mro()) # Print the method resolution order\n",
        "\n"
      ],
      "metadata": {
        "colab": {
          "base_uri": "https://localhost:8080/"
        },
        "id": "bbChZnwREaS1",
        "outputId": "46546d2a-b329-4536-cd78-2d4920dfc3ca"
      },
      "execution_count": null,
      "outputs": [
        {
          "output_type": "stream",
          "name": "stdout",
          "text": [
            "A's __init__\n",
            "C's __init__\n",
            "B's __init__\n",
            "D's __init__\n",
            "B's method\n",
            "[<class '__main__.D'>, <class '__main__.B'>, <class '__main__.C'>, <class '__main__.A'>, <class 'object'>]\n"
          ]
        }
      ]
    },
    {
      "cell_type": "code",
      "source": [
        "#14.Write a class method that keeps track of the number of instances created from a class.\n",
        "class InstanceCounter:\n",
        "    count = 0\n",
        "    def __init__(self):\n",
        "        InstanceCounter.count += 1\n",
        "    @classmethod\n",
        "    def print_count(cls):\n",
        "        print(\"Number of instances created:\", cls.count)\n",
        "obj1 = InstanceCounter()\n",
        "obj2 = InstanceCounter()\n",
        "obj3 = InstanceCounter()\n",
        "InstanceCounter.print_count()"
      ],
      "metadata": {
        "colab": {
          "base_uri": "https://localhost:8080/"
        },
        "id": "s8JUE5V-F2vV",
        "outputId": "3a0c4275-486e-4e90-ad9e-ecae4f7bb801"
      },
      "execution_count": null,
      "outputs": [
        {
          "output_type": "stream",
          "name": "stdout",
          "text": [
            "Number of instances created: 3\n"
          ]
        }
      ]
    },
    {
      "cell_type": "code",
      "source": [
        "#15.Implement a static method in a class that checks if a given year is a leap year.\n",
        "class LeapYearChecker:\n",
        "  @staticmethod\n",
        "  def is_leap_year(year):\n",
        "    if year % 4 == 0 and (year % 100 != 0 or year % 400 == 0):\n",
        "      return True\n",
        "    else:\n",
        "      return False\n",
        "y1=LeapYearChecker.is_leap_year(2020)\n",
        "print(y1)\n",
        "y2=LeapYearChecker.is_leap_year(2022)\n",
        "print(y2)"
      ],
      "metadata": {
        "colab": {
          "base_uri": "https://localhost:8080/"
        },
        "id": "RS_VS_7kHhbQ",
        "outputId": "b7703fcb-f622-416b-ef74-050061aa2a19"
      },
      "execution_count": null,
      "outputs": [
        {
          "output_type": "stream",
          "name": "stdout",
          "text": [
            "True\n",
            "False\n"
          ]
        }
      ]
    },
    {
      "cell_type": "markdown",
      "source": [],
      "metadata": {
        "id": "knYmGudEEoL_"
      }
    },
    {
      "cell_type": "code",
      "source": [],
      "metadata": {
        "id": "dnIvFtc0uqwq"
      },
      "execution_count": null,
      "outputs": []
    }
  ]
}